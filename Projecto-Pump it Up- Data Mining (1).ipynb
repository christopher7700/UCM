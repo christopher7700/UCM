{
 "cells": [
  {
   "cell_type": "markdown",
   "id": "02dbc578",
   "metadata": {},
   "source": [
    "# Projecto Pump it Up: Data Mining the Water Table\n",
    "realizado por: Christopher A.Rodriguez Principe\n"
   ]
  },
  {
   "cell_type": "markdown",
   "id": "b48c3566",
   "metadata": {},
   "source": [
    "Usando datos de Taarifa y el Ministerio de Agua de Tanzania podemos predecir qué bombas funcionan, cuáles necesitan algunas reparaciones y cuáles no funcionan en absoluto.\n",
    "Una comprensión inteligente de qué puntos de agua fallarán puede mejorar las operaciones de mantenimiento y garantizar que las comunidades de Tanzania dispongan de agua limpia y potable.\n",
    "\n",
    "Este proyecto fue hecho en su totalidad por Christopher A.Rodriguez Principe. En este informe, estare discutiendo a profundidad las desiciones,observaciones y justificaciones que se hicieron durante la construccion del modelo predictivo."
   ]
  },
  {
   "cell_type": "code",
   "execution_count": 1,
   "id": "eeda5254",
   "metadata": {},
   "outputs": [],
   "source": [
    "#Importamos los packetes\n",
    "import pandas as pd\n",
    "from datetime import datetime\n",
    "import plotly as pl\n",
    "import matplotlib.pyplot as plt\n",
    "import seaborn as sns\n",
    "import numpy as np\n",
    "\n",
    "\n",
    "from sklearn.linear_model import LinearRegression\n",
    "from sklearn.linear_model import LogisticRegression\n",
    "from sklearn.ensemble import RandomForestClassifier\n",
    "from sklearn.tree import DecisionTreeClassifier\n",
    "from sklearn.linear_model import LogisticRegression\n",
    "from sklearn.svm import SVC\n",
    "from sklearn.cluster import KMeans\n",
    "from sklearn import naive_bayes\n",
    "from sklearn.model_selection import cross_val_score\n",
    "\n",
    "from sklearn.metrics import roc_auc_score\n",
    "from sklearn import metrics\n",
    "from sklearn.model_selection import train_test_split\n",
    "from pandas.plotting import scatter_matrix\n",
    "from sklearn.feature_selection import VarianceThreshold\n",
    "from sklearn.metrics import accuracy_score, auc, confusion_matrix, f1_score, precision_score, recall_score, roc_curve\n",
    "from sklearn.feature_selection import SelectKBest\n",
    "from sklearn.feature_selection import f_regression \n",
    "from sklearn.feature_selection import chi2 \n",
    "\n",
    "\n",
    "\n"
   ]
  },
  {
   "cell_type": "markdown",
   "id": "d20152f9",
   "metadata": {},
   "source": [
    "### Importacion de Datos"
   ]
  },
  {
   "cell_type": "markdown",
   "id": "9da62ea2",
   "metadata": {},
   "source": [
    "Los datos fueron provistos por Taarifa y el ministro de agua de Tanzania. La variable denominada como 'Test_set_values' contiene las variables independientes cuyas queremos pasar por nuestro modelo para crear las predicciones.Las siguientes variables 'Training_set_labels' y 'Training_set_values' contienen las variables independientes y dependente con las que se entrenara el modelo.Estos dos dataframe los unimos en base al 'id', de esta manera el resultado se le asigna al id respectivo que le pertenece a las variables independientes. El dataframe resultante de esta union tiene 40 variables independientes + 1 variable dependiente(resultado)."
   ]
  },
  {
   "cell_type": "code",
   "execution_count": 2,
   "id": "63306bb9",
   "metadata": {},
   "outputs": [],
   "source": [
    "#Cargamos los datos\n",
    "Test_set_values= pd.read_csv('/Users/christopher/Desktop/DS UCM /Modulo 10/Competition/702ddfc5-68cd-4d1d-a0de-f5f566f76d91.csv')\n",
    "\n",
    "Training_set_labels= pd.read_csv('/Users/christopher/Desktop/DS UCM /Modulo 10/Competition/0bf8bc6e-30d0-4c50-956a-603fc693d966.csv')\n",
    "Training_set_values= pd.read_csv('/Users/christopher/Desktop/DS UCM /Modulo 10/Competition/4910797b-ee55-40a7-8668-10efd5c1b960.csv')\n"
   ]
  },
  {
   "cell_type": "code",
   "execution_count": 3,
   "id": "8813ec09",
   "metadata": {},
   "outputs": [
    {
     "name": "stdout",
     "output_type": "stream",
     "text": [
      "(59400, 41)\n"
     ]
    }
   ],
   "source": [
    "DF= pd.merge(Training_set_values,Training_set_labels,on=['id'],how='left')\n",
    "print(DF.shape)\n",
    "\n",
    "DF_test= Test_set_values"
   ]
  },
  {
   "cell_type": "markdown",
   "id": "45105bca",
   "metadata": {},
   "source": [
    "### Valores atipicos"
   ]
  },
  {
   "cell_type": "markdown",
   "id": "033621e8",
   "metadata": {},
   "source": [
    "Uno de los primeros pasos que demos hacer cuando nos enfrentamos con una serie de datos es familiarizarce con las variables. En la siguiente linea de codigo he hecho un .describe() para conocer nuestras variables numericas. De las primeras observaciones que podemos notar es que la variable 'num_private' tiene alrededor de 75% de sus valores son 0. Dado que no existe una definicion de la variable prestada por el ministro de agua de tanzania, decidi eliminar esta variable pensando que pudiese ser un error de sistema haber asignado ese numero. En aicion, he hecho las transformaciones tanto para el DF (dataframe training) como para DF_test(dataframe testing)."
   ]
  },
  {
   "cell_type": "code",
   "execution_count": 4,
   "id": "6910cfdc",
   "metadata": {},
   "outputs": [
    {
     "data": {
      "text/html": [
       "<div>\n",
       "<style scoped>\n",
       "    .dataframe tbody tr th:only-of-type {\n",
       "        vertical-align: middle;\n",
       "    }\n",
       "\n",
       "    .dataframe tbody tr th {\n",
       "        vertical-align: top;\n",
       "    }\n",
       "\n",
       "    .dataframe thead th {\n",
       "        text-align: right;\n",
       "    }\n",
       "</style>\n",
       "<table border=\"1\" class=\"dataframe\">\n",
       "  <thead>\n",
       "    <tr style=\"text-align: right;\">\n",
       "      <th></th>\n",
       "      <th>id</th>\n",
       "      <th>amount_tsh</th>\n",
       "      <th>gps_height</th>\n",
       "      <th>longitude</th>\n",
       "      <th>latitude</th>\n",
       "      <th>num_private</th>\n",
       "      <th>region_code</th>\n",
       "      <th>district_code</th>\n",
       "      <th>population</th>\n",
       "      <th>construction_year</th>\n",
       "    </tr>\n",
       "  </thead>\n",
       "  <tbody>\n",
       "    <tr>\n",
       "      <th>count</th>\n",
       "      <td>59400.000000</td>\n",
       "      <td>59400.000000</td>\n",
       "      <td>59400.000000</td>\n",
       "      <td>59400.000000</td>\n",
       "      <td>5.940000e+04</td>\n",
       "      <td>59400.000000</td>\n",
       "      <td>59400.000000</td>\n",
       "      <td>59400.000000</td>\n",
       "      <td>59400.000000</td>\n",
       "      <td>59400.000000</td>\n",
       "    </tr>\n",
       "    <tr>\n",
       "      <th>mean</th>\n",
       "      <td>37115.131768</td>\n",
       "      <td>317.650385</td>\n",
       "      <td>668.297239</td>\n",
       "      <td>34.077427</td>\n",
       "      <td>-5.706033e+00</td>\n",
       "      <td>0.474141</td>\n",
       "      <td>15.297003</td>\n",
       "      <td>5.629747</td>\n",
       "      <td>179.909983</td>\n",
       "      <td>1300.652475</td>\n",
       "    </tr>\n",
       "    <tr>\n",
       "      <th>std</th>\n",
       "      <td>21453.128371</td>\n",
       "      <td>2997.574558</td>\n",
       "      <td>693.116350</td>\n",
       "      <td>6.567432</td>\n",
       "      <td>2.946019e+00</td>\n",
       "      <td>12.236230</td>\n",
       "      <td>17.587406</td>\n",
       "      <td>9.633649</td>\n",
       "      <td>471.482176</td>\n",
       "      <td>951.620547</td>\n",
       "    </tr>\n",
       "    <tr>\n",
       "      <th>min</th>\n",
       "      <td>0.000000</td>\n",
       "      <td>0.000000</td>\n",
       "      <td>-90.000000</td>\n",
       "      <td>0.000000</td>\n",
       "      <td>-1.164944e+01</td>\n",
       "      <td>0.000000</td>\n",
       "      <td>1.000000</td>\n",
       "      <td>0.000000</td>\n",
       "      <td>0.000000</td>\n",
       "      <td>0.000000</td>\n",
       "    </tr>\n",
       "    <tr>\n",
       "      <th>25%</th>\n",
       "      <td>18519.750000</td>\n",
       "      <td>0.000000</td>\n",
       "      <td>0.000000</td>\n",
       "      <td>33.090347</td>\n",
       "      <td>-8.540621e+00</td>\n",
       "      <td>0.000000</td>\n",
       "      <td>5.000000</td>\n",
       "      <td>2.000000</td>\n",
       "      <td>0.000000</td>\n",
       "      <td>0.000000</td>\n",
       "    </tr>\n",
       "    <tr>\n",
       "      <th>50%</th>\n",
       "      <td>37061.500000</td>\n",
       "      <td>0.000000</td>\n",
       "      <td>369.000000</td>\n",
       "      <td>34.908743</td>\n",
       "      <td>-5.021597e+00</td>\n",
       "      <td>0.000000</td>\n",
       "      <td>12.000000</td>\n",
       "      <td>3.000000</td>\n",
       "      <td>25.000000</td>\n",
       "      <td>1986.000000</td>\n",
       "    </tr>\n",
       "    <tr>\n",
       "      <th>75%</th>\n",
       "      <td>55656.500000</td>\n",
       "      <td>20.000000</td>\n",
       "      <td>1319.250000</td>\n",
       "      <td>37.178387</td>\n",
       "      <td>-3.326156e+00</td>\n",
       "      <td>0.000000</td>\n",
       "      <td>17.000000</td>\n",
       "      <td>5.000000</td>\n",
       "      <td>215.000000</td>\n",
       "      <td>2004.000000</td>\n",
       "    </tr>\n",
       "    <tr>\n",
       "      <th>max</th>\n",
       "      <td>74247.000000</td>\n",
       "      <td>350000.000000</td>\n",
       "      <td>2770.000000</td>\n",
       "      <td>40.345193</td>\n",
       "      <td>-2.000000e-08</td>\n",
       "      <td>1776.000000</td>\n",
       "      <td>99.000000</td>\n",
       "      <td>80.000000</td>\n",
       "      <td>30500.000000</td>\n",
       "      <td>2013.000000</td>\n",
       "    </tr>\n",
       "  </tbody>\n",
       "</table>\n",
       "</div>"
      ],
      "text/plain": [
       "                 id     amount_tsh    gps_height     longitude      latitude  \\\n",
       "count  59400.000000   59400.000000  59400.000000  59400.000000  5.940000e+04   \n",
       "mean   37115.131768     317.650385    668.297239     34.077427 -5.706033e+00   \n",
       "std    21453.128371    2997.574558    693.116350      6.567432  2.946019e+00   \n",
       "min        0.000000       0.000000    -90.000000      0.000000 -1.164944e+01   \n",
       "25%    18519.750000       0.000000      0.000000     33.090347 -8.540621e+00   \n",
       "50%    37061.500000       0.000000    369.000000     34.908743 -5.021597e+00   \n",
       "75%    55656.500000      20.000000   1319.250000     37.178387 -3.326156e+00   \n",
       "max    74247.000000  350000.000000   2770.000000     40.345193 -2.000000e-08   \n",
       "\n",
       "        num_private   region_code  district_code    population  \\\n",
       "count  59400.000000  59400.000000   59400.000000  59400.000000   \n",
       "mean       0.474141     15.297003       5.629747    179.909983   \n",
       "std       12.236230     17.587406       9.633649    471.482176   \n",
       "min        0.000000      1.000000       0.000000      0.000000   \n",
       "25%        0.000000      5.000000       2.000000      0.000000   \n",
       "50%        0.000000     12.000000       3.000000     25.000000   \n",
       "75%        0.000000     17.000000       5.000000    215.000000   \n",
       "max     1776.000000     99.000000      80.000000  30500.000000   \n",
       "\n",
       "       construction_year  \n",
       "count       59400.000000  \n",
       "mean         1300.652475  \n",
       "std           951.620547  \n",
       "min             0.000000  \n",
       "25%             0.000000  \n",
       "50%          1986.000000  \n",
       "75%          2004.000000  \n",
       "max          2013.000000  "
      ]
     },
     "execution_count": 4,
     "metadata": {},
     "output_type": "execute_result"
    }
   ],
   "source": [
    "DF.describe()"
   ]
  },
  {
   "cell_type": "code",
   "execution_count": 5,
   "id": "683106b4",
   "metadata": {},
   "outputs": [
    {
     "name": "stderr",
     "output_type": "stream",
     "text": [
      "/var/folders/cm/2vncb7d5433gcddk1v7h2mph0000gn/T/ipykernel_8563/4116403400.py:3: FutureWarning: In a future version of pandas all arguments of DataFrame.drop except for the argument 'labels' will be keyword-only\n",
      "  DF = DF.drop(['num_private'],1)\n"
     ]
    }
   ],
   "source": [
    "def drop_num_amount(DF):\n",
    "    #eliminamos variables que tienen más de 75% valores missing(0). \n",
    "    DF = DF.drop(['num_private'],1)\n",
    "    return(DF)\n",
    "    \n",
    "\n",
    "DF= drop_num_amount(DF)\n",
    "DF_test =drop_num_amount(DF_test)"
   ]
  },
  {
   "cell_type": "markdown",
   "id": "2c3dbbc7",
   "metadata": {},
   "source": [
    "La siguiente transformacion se a he hecho a la variable 'construction_year'. Esto pues, alrededor de los datos eran 0. Esta variable representa el anio en que se construyo el pozo, pues no es logico que se construya en el anio 0. He remplazado los valores con la mediana (anio 1986). Se ha realizado un filtro al DF para eliminar las poblaciones con valores atipicos, nos concentramos en todas aquellas que tengan 600 habitantes o menos."
   ]
  },
  {
   "cell_type": "code",
   "execution_count": 6,
   "id": "bb5d859e",
   "metadata": {},
   "outputs": [],
   "source": [
    "#filter for construction_year\n",
    "\n",
    "DF.construction_year.replace((0),(1986),inplace=True)\n",
    "DF_test.construction_year.replace((0),(1986),inplace=True)\n",
    "\n",
    "\n",
    "#filter for construction_year\n",
    "DF=DF[DF['population'] <= 600] \n",
    "DF.index=list(range(0,len(DF)))"
   ]
  },
  {
   "cell_type": "code",
   "execution_count": 7,
   "id": "67a5e2fd",
   "metadata": {},
   "outputs": [
    {
     "name": "stdout",
     "output_type": "stream",
     "text": [
      "(55984, 40)\n",
      "(14850, 39)\n"
     ]
    }
   ],
   "source": [
    "\n",
    "print(DF.shape)\n",
    "print(DF_test.shape)\n"
   ]
  },
  {
   "cell_type": "markdown",
   "id": "49118fde",
   "metadata": {},
   "source": [
    "### Changing Data types"
   ]
  },
  {
   "cell_type": "markdown",
   "id": "a2551ff5",
   "metadata": {},
   "source": [
    "Cambiamos el dtype de 'construction_year' y 'date_recorded' para crear variables dependientes del tiempo"
   ]
  },
  {
   "cell_type": "code",
   "execution_count": 8,
   "id": "42c40b85",
   "metadata": {},
   "outputs": [],
   "source": [
    "DF.date_recorded = pd.to_datetime(DF.date_recorded,format=\"%Y-%m-%d\")\n",
    "DF.construction_year = pd.to_datetime(DF.construction_year,format='%Y')\n",
    "\n",
    "DF.date_recorded = pd.DatetimeIndex(DF.date_recorded).year\n",
    "DF.construction_year = pd.DatetimeIndex(DF.construction_year).year\n",
    "\n",
    "\n",
    "\n",
    "### Data Test\n",
    "DF_test.date_recorded = pd.to_datetime(DF_test.date_recorded,format=\"%Y-%m-%d\")\n",
    "\n",
    "DF_test.construction_year.replace((0),(1986),inplace=True)\n",
    "DF_test.construction_year = pd.to_datetime(DF_test.construction_year,format='%Y')\n",
    "\n",
    "DF_test.date_recorded = pd.DatetimeIndex(DF_test.date_recorded).year\n",
    "DF_test.construction_year = pd.DatetimeIndex(DF_test.construction_year).year\n"
   ]
  },
  {
   "cell_type": "markdown",
   "id": "b13b4be2",
   "metadata": {},
   "source": [
    "### Eliminamos Variables con valores Unicos o Valores repetidos"
   ]
  },
  {
   "cell_type": "markdown",
   "id": "1e4eaa8b",
   "metadata": {},
   "source": [
    "La siguientes variables se han eliminado dado que enendí que muchas estaban repetidas y representaban la misma informacion. Tome esta desicion para simplificar los datos y quedarnos con las variable mas relevante y simplificada. Esta desicion usualmente se puede disctir con el cliente/persona del negocio que tiene conocimiento sobre las variables y su impacto. Dado que no existe un agente de negocio he eliminado as variables repetidas a mi interpretacion. He adicionalmente eliminado la variable 'recorded_by' dado que solamente tiene un valor y no aporta informacion al modelo."
   ]
  },
  {
   "cell_type": "code",
   "execution_count": 9,
   "id": "9a70512b",
   "metadata": {},
   "outputs": [
    {
     "name": "stderr",
     "output_type": "stream",
     "text": [
      "/var/folders/cm/2vncb7d5433gcddk1v7h2mph0000gn/T/ipykernel_8563/1994704689.py:2: FutureWarning: In a future version of pandas all arguments of DataFrame.drop except for the argument 'labels' will be keyword-only\n",
      "  DF = DF.drop(['recorded_by'],1)\n",
      "/var/folders/cm/2vncb7d5433gcddk1v7h2mph0000gn/T/ipykernel_8563/1994704689.py:6: FutureWarning: In a future version of pandas all arguments of DataFrame.drop except for the argument 'labels' will be keyword-only\n",
      "  DF = DF.drop(['longitude','latitude','gps_height','funder','installer','wpt_name','basin','subvillage','region','lga','ward','extraction_type','scheme_name','extraction_type','extraction_type_group','management','payment_type','water_quality','quantity','source','waterpoint_type'],1)\n",
      "/var/folders/cm/2vncb7d5433gcddk1v7h2mph0000gn/T/ipykernel_8563/1994704689.py:12: FutureWarning: In a future version of pandas all arguments of DataFrame.drop except for the argument 'labels' will be keyword-only\n",
      "  DF_test = DF_test.drop(['recorded_by'],1)\n",
      "/var/folders/cm/2vncb7d5433gcddk1v7h2mph0000gn/T/ipykernel_8563/1994704689.py:16: FutureWarning: In a future version of pandas all arguments of DataFrame.drop except for the argument 'labels' will be keyword-only\n",
      "  DF_test = DF_test.drop(['longitude','latitude','gps_height','funder','installer','wpt_name','basin','subvillage','region','lga','ward','extraction_type','scheme_name','extraction_type','extraction_type_group','management','payment_type','water_quality','quantity','source','waterpoint_type'],1)\n"
     ]
    }
   ],
   "source": [
    "#Eliminamos variable con valor unico\n",
    "DF = DF.drop(['recorded_by'],1)\n",
    "DF.index=list(range(0,len(DF)))\n",
    "\n",
    "#Eliminar variables con valores repetidos\n",
    "DF = DF.drop(['longitude','latitude','gps_height','funder','installer','wpt_name','basin','subvillage','region','lga','ward','extraction_type','scheme_name','extraction_type','extraction_type_group','management','payment_type','water_quality','quantity','source','waterpoint_type'],1)\n",
    "\n",
    "\n",
    "\n",
    "\n",
    "### Data Test\n",
    "DF_test = DF_test.drop(['recorded_by'],1)\n",
    "DF_test.index=list(range(0,len(DF_test)))\n",
    "\n",
    "#Eliminar variables con valores repetidos\n",
    "DF_test = DF_test.drop(['longitude','latitude','gps_height','funder','installer','wpt_name','basin','subvillage','region','lga','ward','extraction_type','scheme_name','extraction_type','extraction_type_group','management','payment_type','water_quality','quantity','source','waterpoint_type'],1)\n",
    "\n",
    "\n"
   ]
  },
  {
   "cell_type": "code",
   "execution_count": 10,
   "id": "0abb96b1",
   "metadata": {},
   "outputs": [
    {
     "name": "stdout",
     "output_type": "stream",
     "text": [
      "(55984, 19)\n"
     ]
    },
    {
     "data": {
      "text/plain": [
       "(14850, 18)"
      ]
     },
     "execution_count": 10,
     "metadata": {},
     "output_type": "execute_result"
    }
   ],
   "source": [
    "print(DF.shape)\n",
    "DF_test.shape"
   ]
  },
  {
   "cell_type": "markdown",
   "id": "18979267",
   "metadata": {},
   "source": [
    "### Feature Engeneering"
   ]
  },
  {
   "cell_type": "markdown",
   "id": "4bae06bd",
   "metadata": {},
   "source": [
    "La siguiente estapa del projecto se dedica a la creacion de variables nuevas para implementar en el modelo. Las variables añadidas se han producido de ingenio sobre las variables existentes ya que no se puede importar datos de otra fuente para el proposito de la competencia. Habiendo dicho eso, siempre es importante preguntar a la persona de contacto de negocio por otras fuentes de datos que puedan ser incluidas para el desarrollo del modelo. \n",
    "\n",
    "He creado 4 funciones que producen variables distintas. De las 4 funciones he elegido unicamente la variable 'Years_since_observed2' dado que las otras variable no demostraron aumentar la abilidad predictiva del modelo. \n",
    "Las he incluido para proposito de refrencia.\n",
    "\n",
    "La variable creada(Years_since_observed) se calcula restando la fecha en la que el pozo aparece en el sistema de registro y el año en que se construye el pozo. De esta forma podemos conocer cuantos años de funcion tiene el pozo. "
   ]
  },
  {
   "cell_type": "code",
   "execution_count": 11,
   "id": "72da9ccb",
   "metadata": {},
   "outputs": [
    {
     "name": "stderr",
     "output_type": "stream",
     "text": [
      "/Users/christopher/opt/anaconda3/lib/python3.9/site-packages/pandas/core/generic.py:5516: SettingWithCopyWarning: \n",
      "A value is trying to be set on a copy of a slice from a DataFrame.\n",
      "Try using .loc[row_indexer,col_indexer] = value instead\n",
      "\n",
      "See the caveats in the documentation: https://pandas.pydata.org/pandas-docs/stable/user_guide/indexing.html#returning-a-view-versus-a-copy\n",
      "  self[name] = value\n"
     ]
    }
   ],
   "source": [
    "def Years_since_observed(DF):\n",
    "    DF['Years_since_observed'] = (DF.date_recorded - DF.construction_year)\n",
    "    DF.Years_since_observed = DF.Years_since_observed[DF.Years_since_observed >=0]\n",
    "    DF = DF[DF['Years_since_observed'].notnull()]\n",
    "    DF.Years_since_observed= DF.Years_since_observed.astype('int64')\n",
    "    return(DF)\n",
    "\n",
    "DF = Years_since_observed(DF)\n",
    "\n",
    "\n",
    "\n",
    "\n",
    "def Years_since_observed2(DF):\n",
    "    DF['Years_since_observed'] = (DF.date_recorded - DF.construction_year)\n",
    "\n",
    "    return(DF)\n",
    "\n",
    "DF_test = Years_since_observed2(DF_test)\n",
    "\n",
    "\n"
   ]
  },
  {
   "cell_type": "markdown",
   "id": "211cebe4",
   "metadata": {},
   "source": [
    "Las siguientes 3 funciones presentaban variables nuevas pero no aumentaron la capacidad predictiva del modelo. Esto se debe que en los datos de testing no existia la categoria en que se entreno los datos de entrenamiento. Especulo si existieran mas datos a test pudiera variar los datos para que sean similar a los datos de entrenamiento. "
   ]
  },
  {
   "cell_type": "code",
   "execution_count": 12,
   "id": "5aeef807",
   "metadata": {},
   "outputs": [],
   "source": [
    "def Y_times_recorded(DF):\n",
    "    DF['Y_times_recorded']= DF.groupby('date_recorded')['date_recorded'].transform('count')\n",
    "    DF.Y_times_recorded= DF.Y_times_recorded.astype('int64')\n",
    "    DF.Y_times_recorded= DF['Y_times_recorded'].apply(lambda x:'high' if x>=9000 else('medium' if x<=8999 and x>=4500 else('low' if x<=4449 else(0))))\n",
    "    return(DF)"
   ]
  },
  {
   "cell_type": "code",
   "execution_count": 13,
   "id": "94b048d1",
   "metadata": {},
   "outputs": [],
   "source": [
    "def Num_bombas_Region(DF):\n",
    "    DF['Num_bombas_Region']= DF.groupby('district_code')['district_code'].transform('count')\n",
    "    DF.Num_bombas_Region= DF.Num_bombas_Region.astype('int64')\n",
    "    DF.Num_bombas_Region= DF['Num_bombas_Region'].apply(lambda x:'high' if x>=3765 else('medium' if x<=3764 and x>=2895 else('low' if x<=2894 else(0))))\n",
    "    return(DF)"
   ]
  },
  {
   "cell_type": "code",
   "execution_count": 14,
   "id": "a2ea0f3e",
   "metadata": {},
   "outputs": [],
   "source": [
    "def population(DF):\n",
    "    DF.population= DF['population'].apply(lambda x:'high density' if x>=200 else('medium density' if x<=199 and x>=80 else('low density' if x<=79 else(0))))\n",
    "    return(DF)"
   ]
  },
  {
   "cell_type": "code",
   "execution_count": 15,
   "id": "554e6fe7",
   "metadata": {},
   "outputs": [
    {
     "name": "stdout",
     "output_type": "stream",
     "text": [
      "(55977, 20)\n"
     ]
    },
    {
     "data": {
      "text/plain": [
       "(14850, 19)"
      ]
     },
     "execution_count": 15,
     "metadata": {},
     "output_type": "execute_result"
    }
   ],
   "source": [
    "print(DF.shape)\n",
    "DF_test.shape"
   ]
  },
  {
   "cell_type": "markdown",
   "id": "b7c2f7e8",
   "metadata": {},
   "source": [
    "### Convertimos a numerico las categorias"
   ]
  },
  {
   "cell_type": "markdown",
   "id": "c35be501",
   "metadata": {},
   "source": [
    "Muchos modelos de ML no acceptan valores categoricos como 'input'. He revisado las variables con tipos de dato 'object' y la he añadido a una lista. Estas variables se convertiran a numericas mediante One-hot encoding.\n",
    "La funcion 'lista_categorias' nos crea estas variables. "
   ]
  },
  {
   "cell_type": "code",
   "execution_count": 16,
   "id": "2174a404",
   "metadata": {},
   "outputs": [],
   "source": [
    "def lista_categorias(DF):\n",
    "    ## Transformamos las variables a dummies\n",
    "    lista_categoricas=['waterpoint_type_group','source_class','source_type','quantity_group','quality_group','payment','management_group','extraction_type_class','permit','scheme_management','public_meeting']\n",
    "    for k in lista_categoricas:\n",
    "        dummies = pd.get_dummies(DF[k],prefix=k,drop_first=True)\n",
    "        DF = pd.concat([DF, dummies], axis=1)\n",
    "        DF.drop(k,axis=1,inplace=True)\n",
    "    return(DF)\n",
    "\n",
    "DF = lista_categorias(DF)\n",
    "DF_test= lista_categorias(DF_test)"
   ]
  },
  {
   "cell_type": "markdown",
   "id": "b33023d6",
   "metadata": {},
   "source": [
    "Luego convertimos el resultado 'status_group' a numerico mediante label-encoding."
   ]
  },
  {
   "cell_type": "code",
   "execution_count": 17,
   "id": "5f43c77f",
   "metadata": {},
   "outputs": [],
   "source": [
    "DF.status_group.replace(('functional','functional needs repair','non functional'),(0,1,2),inplace=True)"
   ]
  },
  {
   "cell_type": "markdown",
   "id": "005eba36",
   "metadata": {},
   "source": [
    "Elimino las variables:  'date_recorded','id','construction_year' del modelo ya que solo se utilizan para proposito de crear otras variables y modifica la base de datos."
   ]
  },
  {
   "cell_type": "code",
   "execution_count": 18,
   "id": "8f87d8bd",
   "metadata": {},
   "outputs": [],
   "source": [
    "DF= DF.drop(columns=['date_recorded','id','construction_year']) \n",
    "\n",
    "### \n",
    "DF_test_id = DF_test['id']\n",
    "DF_test_id=pd.DataFrame(DF_test_id)\n",
    "\n",
    "DF_test= DF_test.drop(columns=['date_recorded','id','construction_year']) \n"
   ]
  },
  {
   "cell_type": "markdown",
   "id": "54f774e0",
   "metadata": {},
   "source": [
    "La siguiente funcion nos consigue la correlacion entre variables. Para propositos de este proyecto he decidido eliminar una de las variables con correlacion >= 0.70. Para propositos fuera de la academia podemos considerar valores alrededor de 0.70 o consultar con la persona de negocio. "
   ]
  },
  {
   "cell_type": "code",
   "execution_count": 19,
   "id": "a56709e2",
   "metadata": {},
   "outputs": [
    {
     "name": "stdout",
     "output_type": "stream",
     "text": [
      "Top Absolute Correlations\n",
      "source_class_unknown                      source_type_other                  1.000000\n",
      "waterpoint_type_group_hand pump           extraction_type_class_handpump     0.944711\n",
      "management_group_parastatal               scheme_management_Parastatal       0.911332\n",
      "source_class_surface                      source_type_river/lake             0.857594\n",
      "waterpoint_type_group_communal standpipe  waterpoint_type_group_hand pump    0.763848\n",
      "quality_group_good                        quality_group_salty                0.743111\n",
      "waterpoint_type_group_communal standpipe  source_type_shallow well           0.740333\n",
      "                                          extraction_type_class_handpump     0.725837\n",
      "waterpoint_type_group_other               extraction_type_class_other        0.709624\n",
      "quantity_group_enough                     quantity_group_insufficient        0.652821\n",
      "waterpoint_type_group_hand pump           source_type_shallow well           0.647555\n",
      "source_type_shallow well                  extraction_type_class_handpump     0.637398\n",
      "management_group_other                    scheme_management_Other            0.607836\n",
      "quantity_group_unknown                    quality_group_unknown              0.476500\n",
      "management_group_parastatal               management_group_user-group        0.475387\n",
      "dtype: float64\n"
     ]
    }
   ],
   "source": [
    "df=DF\n",
    "\n",
    "def get_redundant_pairs(df):\n",
    "    '''Get diagonal and lower triangular pairs of correlation matrix'''\n",
    "    pairs_to_drop = set()\n",
    "    cols = df.columns\n",
    "    for i in range(0, df.shape[1]):\n",
    "        for j in range(0, i+1):\n",
    "            pairs_to_drop.add((cols[i], cols[j]))\n",
    "    return pairs_to_drop\n",
    "\n",
    "def get_top_abs_correlations(df, n=5):\n",
    "    au_corr = df.corr(method='spearman').abs().unstack()\n",
    "    labels_to_drop = get_redundant_pairs(df)\n",
    "    au_corr = au_corr.drop(labels=labels_to_drop).sort_values(ascending=False)\n",
    "    return au_corr[0:n]\n",
    "\n",
    "\n",
    "print(\"Top Absolute Correlations\")\n",
    "corrauto=(get_top_abs_correlations(df, 15))\n",
    "print(corrauto)\n",
    "\n"
   ]
  },
  {
   "cell_type": "code",
   "execution_count": 20,
   "id": "6194e81f",
   "metadata": {},
   "outputs": [],
   "source": [
    "#Eliminamos variables correlacionadas con más de 0.70 colinealidad\n",
    "DF =DF.drop(columns=['extraction_type_class_handpump','extraction_type_class_other','source_type_shallow well','source_type_river/lake','quality_group_salty','waterpoint_type_group_hand pump','scheme_management_Parastatal','source_type_other'])\n",
    "DF_test =DF_test.drop(columns=['extraction_type_class_handpump','extraction_type_class_other','source_type_shallow well','source_type_river/lake','quality_group_salty','waterpoint_type_group_hand pump','scheme_management_Parastatal','source_type_other'])\n"
   ]
  },
  {
   "cell_type": "code",
   "execution_count": 21,
   "id": "4958356b",
   "metadata": {},
   "outputs": [],
   "source": [
    "DF = DF.astype('int64') \n",
    "DF_test = DF_test.astype('int64') "
   ]
  },
  {
   "cell_type": "markdown",
   "id": "ed0cd1a1",
   "metadata": {},
   "source": [
    "### Feature Importance"
   ]
  },
  {
   "cell_type": "markdown",
   "id": "b606b79a",
   "metadata": {},
   "source": [
    "La siguiente fase me dedico a decidir cuales variables tiene mayor importancia para predecir 'status_group'. Existen distintos metodos de seleccion de variable. He elegido elegir mediante SelectKBest que fue prestada en la documentacion del modulo. He elegido 25 columnas que mejor abilidad predictiva tendran. estas son: ['Years_since_observed', 'amount_tsh', 'district_code', 'extraction_type_class_motorpump', 'payment_pay annually', 'payment_pay monthly', 'payment_pay per bucket', 'payment_unknown', 'population', 'quality_group_good', 'quality_group_unknown', 'quantity_group_enough', 'quantity_group_unknown', 'region_code', 'scheme_management_VWC', 'scheme_management_WUA', 'scheme_management_WUG', 'scheme_management_Water Board', 'scheme_management_Water authority', 'source_class_surface', 'source_type_rainwater harvesting', 'source_type_spring', 'status_group', 'waterpoint_type_group_communal standpipe', 'waterpoint_type_group_other']. Podemos notar que la variable que he creado 'Years_since_observed' aparece entre las variables significativas. "
   ]
  },
  {
   "cell_type": "code",
   "execution_count": 22,
   "id": "5b6227cc",
   "metadata": {},
   "outputs": [
    {
     "name": "stdout",
     "output_type": "stream",
     "text": [
      "['Years_since_observed', 'amount_tsh', 'district_code', 'extraction_type_class_motorpump', 'payment_pay annually', 'payment_pay monthly', 'payment_pay per bucket', 'payment_unknown', 'population', 'quality_group_good', 'quality_group_unknown', 'quantity_group_enough', 'quantity_group_unknown', 'region_code', 'scheme_management_VWC', 'scheme_management_WUA', 'scheme_management_WUG', 'scheme_management_Water Board', 'scheme_management_Water authority', 'source_class_surface', 'source_type_rainwater harvesting', 'source_type_spring', 'status_group', 'waterpoint_type_group_communal standpipe', 'waterpoint_type_group_other']\n"
     ]
    }
   ],
   "source": [
    "S_chi5 = SelectKBest(chi2, k = 25)\n",
    "X_chi5 = S_chi5.fit_transform(DF, DF['status_group'])\n",
    "\n",
    "variables = list(np.asarray(list(DF))[S_chi5.get_support()])\n",
    "variables.sort()\n",
    "print(variables)"
   ]
  },
  {
   "cell_type": "code",
   "execution_count": 23,
   "id": "7847af43",
   "metadata": {},
   "outputs": [],
   "source": [
    "columnas_train = ['Years_since_observed', 'amount_tsh', 'district_code', 'extraction_type_class_motorpump', 'payment_pay annually', 'payment_pay monthly', 'payment_pay per bucket', 'payment_unknown', 'population', 'quality_group_good', 'quality_group_unknown', 'quantity_group_enough', 'quantity_group_unknown', 'region_code', 'scheme_management_VWC', 'scheme_management_WUA', 'scheme_management_WUG', 'scheme_management_Water Board', 'scheme_management_Water authority', 'source_class_surface', 'source_type_rainwater harvesting', 'source_type_spring','waterpoint_type_group_communal standpipe', 'waterpoint_type_group_other','status_group']\n",
    "columnas_test =  ['Years_since_observed', 'amount_tsh', 'district_code', 'extraction_type_class_motorpump', 'payment_pay annually', 'payment_pay monthly', 'payment_pay per bucket', 'payment_unknown', 'population', 'quality_group_good', 'quality_group_unknown', 'quantity_group_enough', 'quantity_group_unknown', 'region_code', 'scheme_management_VWC', 'scheme_management_WUA', 'scheme_management_WUG', 'scheme_management_Water Board', 'scheme_management_Water authority', 'source_class_surface', 'source_type_rainwater harvesting', 'source_type_spring','waterpoint_type_group_communal standpipe', 'waterpoint_type_group_other',]"
   ]
  },
  {
   "cell_type": "code",
   "execution_count": 24,
   "id": "c42c0774",
   "metadata": {},
   "outputs": [],
   "source": [
    "DF = DF[columnas_train]\n",
    "DF_test = DF_test[columnas_test]\n"
   ]
  },
  {
   "cell_type": "code",
   "execution_count": 25,
   "id": "3e53056a",
   "metadata": {},
   "outputs": [],
   "source": [
    "X = DF.iloc[:,:-1]\n",
    "y = DF['status_group']\n"
   ]
  },
  {
   "cell_type": "markdown",
   "id": "58477276",
   "metadata": {},
   "source": [
    "### Train/split model"
   ]
  },
  {
   "cell_type": "markdown",
   "id": "c15af3f0",
   "metadata": {},
   "source": [
    "Para proposito de nuestro data set he hecho varias pruebas para determinar el test_size de la funcion 'train_test_split'. He determinado elegir 20% de los datos para testing y 80% para hacer el entreamiento del modelo. Este porcentage lo he intendado con diferentes propociones y hacerlo con 20% me resulto con mejor capacidad predictiva para el modelo. "
   ]
  },
  {
   "cell_type": "code",
   "execution_count": 26,
   "id": "3244615d",
   "metadata": {},
   "outputs": [],
   "source": [
    "from sklearn.model_selection import train_test_split\n",
    "X_train,  X_test, y_train,y_test = train_test_split(X,y,test_size=0.2,random_state=42)"
   ]
  },
  {
   "cell_type": "markdown",
   "id": "7fe570de",
   "metadata": {},
   "source": [
    "## Modelos"
   ]
  },
  {
   "cell_type": "markdown",
   "id": "a369d16d",
   "metadata": {},
   "source": [
    "La siguiente estapa creamos varios modelos y probamos cual resulta con mayor Accuracy. Entre los modelos elegí: RandomForest, DecisionTreeCassifier, Naive Bayes, Linear Regresion. Quisiera enfatizar que por problemas con mi version de python, no he podido installar el modelo XGboost. Reconozco que este modelos es uno muy util y permite alzanzar mejor resultado pero dado las inconveniencias de mi sistema operativo lo he obviado. \n",
    "\n",
    "**Resultados de los modelos**: \n",
    "El modelo con mejor capacidad predictiva en el dataset de entrenamiento es Random Forest con un score de 0.76. Los prametros se han determinado de siguiente: n_estimators = 500. El numero de estimador se selecciono con varias puebas y 500 dio resultado a un mejor accuracy. He incluido el 'cross_val_score'  para determinar si nuestros datos estas over/under fitted, observamos que nuestro 'cross_val_score' se mantiene alrededor a 0.75 a la centesima . Por lo tanto determinamos que nuestros datos estan 'fitted' correctamente y procedemos con nuestro modelo. "
   ]
  },
  {
   "cell_type": "markdown",
   "id": "a697489c",
   "metadata": {},
   "source": [
    "### RandomForest"
   ]
  },
  {
   "cell_type": "code",
   "execution_count": 27,
   "id": "2180073f",
   "metadata": {},
   "outputs": [
    {
     "data": {
      "text/plain": [
       "RandomForestClassifier(n_estimators=500, random_state=42)"
      ]
     },
     "execution_count": 27,
     "metadata": {},
     "output_type": "execute_result"
    }
   ],
   "source": [
    "random_forest= RandomForestClassifier(n_estimators=500,random_state=42)\n",
    "random_forest.fit(X_train,y_train)"
   ]
  },
  {
   "cell_type": "code",
   "execution_count": 28,
   "id": "d9f9d322",
   "metadata": {},
   "outputs": [
    {
     "data": {
      "text/plain": [
       "0.7631296891747053"
      ]
     },
     "execution_count": 28,
     "metadata": {},
     "output_type": "execute_result"
    }
   ],
   "source": [
    "y_pred=random_forest.predict(X_test)\n",
    "random_forest.score(X_test,y_test)"
   ]
  },
  {
   "cell_type": "code",
   "execution_count": 29,
   "id": "f576ed4f",
   "metadata": {},
   "outputs": [
    {
     "name": "stdout",
     "output_type": "stream",
     "text": [
      "[0.75672658 0.75926753 0.75848593 0.75748102 0.75424297]\n",
      "0.75724080556984\n"
     ]
    }
   ],
   "source": [
    "from sklearn.model_selection import cross_val_score\n",
    "results = cross_val_score(estimator=random_forest, X=X_train, y=y_train, cv=5)\n",
    "\n",
    "print(results)\n",
    "print(results.mean())"
   ]
  },
  {
   "cell_type": "markdown",
   "id": "037257a4",
   "metadata": {},
   "source": [
    "### DecisionTreeClassifier"
   ]
  },
  {
   "cell_type": "code",
   "execution_count": 30,
   "id": "d458b2ee",
   "metadata": {},
   "outputs": [
    {
     "data": {
      "text/plain": [
       "DecisionTreeClassifier(max_depth=12, random_state=42)"
      ]
     },
     "execution_count": 30,
     "metadata": {},
     "output_type": "execute_result"
    }
   ],
   "source": [
    "dt_classifier = DecisionTreeClassifier(max_depth = 12,random_state=42)\n",
    "dt_classifier.fit(X_train, y_train)\n"
   ]
  },
  {
   "cell_type": "code",
   "execution_count": 31,
   "id": "cfbf1e72",
   "metadata": {},
   "outputs": [
    {
     "name": "stdout",
     "output_type": "stream",
     "text": [
      "[0.72144691 0.72398392 0.72420724 0.72967843 0.71862439]\n",
      "0.7235881767102941\n"
     ]
    }
   ],
   "source": [
    "y_pred=dt_classifier.predict(X_test)\n",
    "dt_classifier.score(X_test,y_test)\n",
    "\n",
    "\n",
    "results = cross_val_score(estimator=dt_classifier, X=X_train, y=y_train, cv=5)\n",
    "\n",
    "print(results)\n",
    "print(results.mean())"
   ]
  },
  {
   "cell_type": "markdown",
   "id": "ab831183",
   "metadata": {},
   "source": [
    "### Naive Bayes"
   ]
  },
  {
   "cell_type": "code",
   "execution_count": 32,
   "id": "4f5ca527",
   "metadata": {},
   "outputs": [
    {
     "name": "stdout",
     "output_type": "stream",
     "text": [
      "[0.57820699 0.58686914 0.56018312 0.60216615 0.59122376]\n",
      "0.5837298301253027\n"
     ]
    }
   ],
   "source": [
    "nb_classifier = naive_bayes.GaussianNB().fit(X_train, y_train)\n",
    "y_pred = nb_classifier.predict(X_test)\n",
    "\n",
    "results = cross_val_score(estimator=nb_classifier, X=X_train, y=y_train, cv=5)\n",
    "\n",
    "print(results)\n",
    "print(results.mean())"
   ]
  },
  {
   "cell_type": "markdown",
   "id": "dcfcd4c2",
   "metadata": {},
   "source": [
    "### Linear Regresion"
   ]
  },
  {
   "cell_type": "code",
   "execution_count": 33,
   "id": "33ff4e0c",
   "metadata": {},
   "outputs": [
    {
     "name": "stdout",
     "output_type": "stream",
     "text": [
      "[0.23453434 0.22421473 0.25281855 0.23860308 0.23780025]\n",
      "0.23759419114934982\n"
     ]
    }
   ],
   "source": [
    "Linear = LinearRegression()\n",
    "Linear.fit(X_train,y_train )\n",
    "\n",
    "results = cross_val_score(estimator=Linear, X=X_train, y=y_train, cv=5)\n",
    "\n",
    "print(results)\n",
    "print(results.mean())"
   ]
  },
  {
   "cell_type": "markdown",
   "id": "373761ce",
   "metadata": {},
   "source": [
    "### Prediccion"
   ]
  },
  {
   "cell_type": "markdown",
   "id": "c20231b0",
   "metadata": {},
   "source": [
    "Finalmente hacemos la prediccion final para los datos 'Test_set_values'. Hago unas transfromaciones finales para presentar las predicciones juntos a su 'id' respectivo."
   ]
  },
  {
   "cell_type": "code",
   "execution_count": 34,
   "id": "3eb923ca",
   "metadata": {},
   "outputs": [],
   "source": [
    "\n",
    "predicton = random_forest.predict(DF_test)\n",
    "predicton = pd.DataFrame(predicton)\n",
    "predicton.rename(columns={0:'status_group'},inplace=True)"
   ]
  },
  {
   "cell_type": "code",
   "execution_count": 35,
   "id": "881481b6",
   "metadata": {},
   "outputs": [],
   "source": [
    "pred1 = pd.merge(DF_test_id,predicton,left_index=True,right_index=True)\n",
    "pred1.status_group.replace((0,1,2),('functional','functional needs repair','non functional'),inplace=True)\n",
    "pred1 = pred1.set_index('id')"
   ]
  },
  {
   "cell_type": "code",
   "execution_count": 36,
   "id": "0ce08d66",
   "metadata": {},
   "outputs": [
    {
     "data": {
      "text/plain": [
       "status_group           \n",
       "functional                 8764\n",
       "non functional             5368\n",
       "functional needs repair     718\n",
       "dtype: int64"
      ]
     },
     "execution_count": 36,
     "metadata": {},
     "output_type": "execute_result"
    }
   ],
   "source": [
    "pred1.value_counts()"
   ]
  },
  {
   "cell_type": "markdown",
   "id": "bbe9d4ee",
   "metadata": {},
   "source": [
    "# Conclusion:"
   ]
  },
  {
   "cell_type": "markdown",
   "id": "7eb13293",
   "metadata": {},
   "source": [
    "Nuestra prediccion resulta:\n",
    "\n",
    "**functional**: 8764\n",
    "**non functional**: 5368\n",
    "**functional needs repair**: 718\n",
    "\n",
    "El 'accuracy' de la competencias Projecto Pump it Up: Data Mining the Water Table resulto en 0.7585 versus la prediccion de nuestro cross_val_score promedio fue 0.7572."
   ]
  },
  {
   "cell_type": "code",
   "execution_count": null,
   "id": "5a202f5f",
   "metadata": {},
   "outputs": [],
   "source": []
  }
 ],
 "metadata": {
  "kernelspec": {
   "display_name": "Python 3 (ipykernel)",
   "language": "python",
   "name": "python3"
  },
  "language_info": {
   "codemirror_mode": {
    "name": "ipython",
    "version": 3
   },
   "file_extension": ".py",
   "mimetype": "text/x-python",
   "name": "python",
   "nbconvert_exporter": "python",
   "pygments_lexer": "ipython3",
   "version": "3.9.7"
  }
 },
 "nbformat": 4,
 "nbformat_minor": 5
}
